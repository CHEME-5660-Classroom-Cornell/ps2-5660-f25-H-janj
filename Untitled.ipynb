{
 "cells": [
  {
   "cell_type": "code",
   "execution_count": 1,
   "id": "55b19ef6-8e83-42a8-96e8-b0a7932a2dd4",
   "metadata": {},
   "outputs": [
    {
     "ename": "LoadError",
     "evalue": "ParseError:\n\u001b[90m# Error @ \u001b[0;0m\u001b]8;;file:///Users/haider/Documents/GitHub/Ps2-5660-f25-H-janj/In[1]#34:72\u001b\\\u001b[90mIn[1]:34:72\u001b[0;0m\u001b]8;;\u001b\\\n    xlabel!(\"Trading Day Index (AU)\", fontsize=18)\n    ylabel!(\"Firm-$(random_firm_ticker) VWAP (USD/share)\", fontsize=18)\u001b[48;2;120;70;70m\u001b[0;0m\n\u001b[90m#                                                                      └ ── \u001b[0;0m\u001b[91mExpected `end`\u001b[0;0m",
     "output_type": "error",
     "traceback": [
      "ParseError:\n\u001b[90m# Error @ \u001b[0;0m\u001b]8;;file:///Users/haider/Documents/GitHub/Ps2-5660-f25-H-janj/In[1]#34:72\u001b\\\u001b[90mIn[1]:34:72\u001b[0;0m\u001b]8;;\u001b\\\n    xlabel!(\"Trading Day Index (AU)\", fontsize=18)\n    ylabel!(\"Firm-$(random_firm_ticker) VWAP (USD/share)\", fontsize=18)\u001b[48;2;120;70;70m\u001b[0;0m\n\u001b[90m#                                                                      └ ── \u001b[0;0m\u001b[91mExpected `end`\u001b[0;0m",
      "",
      "Stacktrace:",
      " [1] top-level scope",
      "\u001b[90m   @\u001b[39m \u001b[90m\u001b[4mIn[1]:34\u001b[24m\u001b[39m"
     ]
    }
   ],
   "source": [
    "let \n",
    "\n",
    "    levels = [k for k ∈ 0:(TSIM-1)]\n",
    "    expectation = 𝔼(random_test_model, levels); # compute the expected value\n",
    "    variance = Var(random_test_model, levels); # compute the variance\n",
    "\n",
    "\n",
    "    # initialize -\n",
    "    L68 = expectation[:,2] .- sqrt.(variance[:,2])\n",
    "    U68 = expectation[:,2] .+ sqrt.(variance[:,2])\n",
    "    L95 = expectation[:,2] .- 1.96*sqrt.(variance[:,2])\n",
    "    U95 = expectation[:,2] .+ 1.96*sqrt.(variance[:,2])\n",
    "    L99 = expectation[:,2] .- 2.576*sqrt.(variance[:,2])\n",
    "    U99 = expectation[:,2] .+ 2.576*sqrt.(variance[:,2])\n",
    "\n",
    "    T_range = range(start_index,stop=stop_index-1,step=1) |> collect \n",
    "    T_sim = T_range*Δt .- Δt\n",
    "\n",
    "    plot(T_range, expectation[:,2], fillrange=L68, c=:deepskyblue1, alpha=0.4, label=\"\")\n",
    "    plot!(T_range, expectation[:,2], fillrange=U68, c=:deepskyblue1, alpha=0.4, label=\"\")\n",
    "    plot!(T_range, expectation[:,2], fillrange=L95, c=:deepskyblue1, alpha=0.3, label=\"\")\n",
    "    plot!(T_range, expectation[:,2], fillrange=U95, c=:deepskyblue1, alpha=0.3, label=\"\")\n",
    "    plot!(T_range, expectation[:,2], fillrange=L99, c=:deepskyblue1, alpha=0.2, label=\"\")\n",
    "    plot!(T_range, expectation[:,2], fillrange=U99, c=:deepskyblue1, alpha=0.2, label=\"\")\n",
    "    plot!(T_range, expectation[:,2],c=:blue, lw=3,ls=:dash, label=\"expectation\")\n",
    "    plot!(T_range, random_firm_data[levels .+ start_index, :volume_weighted_average_price],  \n",
    "        lw=4, c=:red, label=\"Firm-$(random_firm_ticker)\", legend = :topleft)\n",
    "    scatter!(T_range, random_firm_data[levels .+ start_index, :volume_weighted_average_price], label=\"\", \n",
    "        msc=:red, mc=:white)\n",
    "\n",
    "    plot!(bg=\"gray95\", background_color_outside=\"white\", framestyle = :box, fg_legend = :transparent);\n",
    "\n",
    "    xlabel!(\"Trading Day Index (AU)\", fontsize=18)\n",
    "    ylabel!(\"Firm-$(random_firm_ticker) VWAP (USD/share)\", fontsize=18)"
   ]
  },
  {
   "cell_type": "code",
   "execution_count": 2,
   "id": "caf9f76f-6281-4e2a-b0c0-2763779e8144",
   "metadata": {},
   "outputs": [
    {
     "ename": "LoadError",
     "evalue": "ParseError:\n\u001b[90m# Error @ \u001b[0;0m\u001b]8;;file:///Users/haider/Documents/GitHub/Ps2-5660-f25-H-janj/In[2]#35:5\u001b\\\u001b[90mIn[2]:35:5\u001b[0;0m\u001b]8;;\u001b\\\n    ylabel!(\"Firm-$(random_firm_ticker) VWAP (USD/share)\", fontsize=18)\n    \u001b[48;2;120;70;70m\u001b[0;0m\n\u001b[90m#   └ ── \u001b[0;0m\u001b[91mExpected `end`\u001b[0;0m",
     "output_type": "error",
     "traceback": [
      "ParseError:\n\u001b[90m# Error @ \u001b[0;0m\u001b]8;;file:///Users/haider/Documents/GitHub/Ps2-5660-f25-H-janj/In[2]#35:5\u001b\\\u001b[90mIn[2]:35:5\u001b[0;0m\u001b]8;;\u001b\\\n    ylabel!(\"Firm-$(random_firm_ticker) VWAP (USD/share)\", fontsize=18)\n    \u001b[48;2;120;70;70m\u001b[0;0m\n\u001b[90m#   └ ── \u001b[0;0m\u001b[91mExpected `end`\u001b[0;0m",
      "",
      "Stacktrace:",
      " [1] top-level scope",
      "\u001b[90m   @\u001b[39m \u001b[90m\u001b[4mIn[2]:35\u001b[24m\u001b[39m"
     ]
    }
   ],
   "source": [
    "let \n",
    "\n",
    "    levels = [k for k ∈ 0:(TSIM-1)]\n",
    "    expectation = 𝔼(random_test_model, levels); # compute the expected value\n",
    "    variance = Var(random_test_model, levels); # compute the variance\n",
    "\n",
    "\n",
    "    # initialize -\n",
    "    L68 = expectation[:,2] .- sqrt.(variance[:,2])\n",
    "    U68 = expectation[:,2] .+ sqrt.(variance[:,2])\n",
    "    L95 = expectation[:,2] .- 1.96*sqrt.(variance[:,2])\n",
    "    U95 = expectation[:,2] .+ 1.96*sqrt.(variance[:,2])\n",
    "    L99 = expectation[:,2] .- 2.576*sqrt.(variance[:,2])\n",
    "    U99 = expectation[:,2] .+ 2.576*sqrt.(variance[:,2])\n",
    "\n",
    "    T_range = range(start_index,stop=stop_index-1,step=1) |> collect \n",
    "    T_sim = T_range*Δt .- Δt\n",
    "\n",
    "    plot(T_range, expectation[:,2], fillrange=L68, c=:deepskyblue1, alpha=0.4, label=\"\")\n",
    "    plot!(T_range, expectation[:,2], fillrange=U68, c=:deepskyblue1, alpha=0.4, label=\"\")\n",
    "    plot!(T_range, expectation[:,2], fillrange=L95, c=:deepskyblue1, alpha=0.3, label=\"\")\n",
    "    plot!(T_range, expectation[:,2], fillrange=U95, c=:deepskyblue1, alpha=0.3, label=\"\")\n",
    "    plot!(T_range, expectation[:,2], fillrange=L99, c=:deepskyblue1, alpha=0.2, label=\"\")\n",
    "    plot!(T_range, expectation[:,2], fillrange=U99, c=:deepskyblue1, alpha=0.2, label=\"\")\n",
    "    plot!(T_range, expectation[:,2],c=:blue, lw=3,ls=:dash, label=\"expectation\")\n",
    "    plot!(T_range, random_firm_data[levels .+ start_index, :volume_weighted_average_price],  \n",
    "        lw=4, c=:red, label=\"Firm-$(random_firm_ticker)\", legend = :topleft)\n",
    "    scatter!(T_range, random_firm_data[levels .+ start_index, :volume_weighted_average_price], label=\"\", \n",
    "        msc=:red, mc=:white)\n",
    "\n",
    "    plot!(bg=\"gray95\", background_color_outside=\"white\", framestyle = :box, fg_legend = :transparent);\n",
    "\n",
    "    xlabel!(\"Trading Day Index (AU)\", fontsize=18)\n",
    "    ylabel!(\"Firm-$(random_firm_ticker) VWAP (USD/share)\", fontsize=18)\n",
    "    "
   ]
  },
  {
   "cell_type": "code",
   "execution_count": null,
   "id": "ccdfbbc8-fdc6-4a2c-be1f-c86a22057463",
   "metadata": {},
   "outputs": [],
   "source": []
  }
 ],
 "metadata": {
  "kernelspec": {
   "display_name": "Julia 1.11.6",
   "language": "julia",
   "name": "julia-1.11"
  },
  "language_info": {
   "file_extension": ".jl",
   "mimetype": "application/julia",
   "name": "julia",
   "version": "1.11.6"
  }
 },
 "nbformat": 4,
 "nbformat_minor": 5
}
